{
  "nbformat": 4,
  "nbformat_minor": 0,
  "metadata": {
    "colab": {
      "name": "recipe_generator.ipynb",
      "provenance": [],
      "collapsed_sections": [],
      "authorship_tag": "ABX9TyNY+DqzDe/DiKICbrnG5Px/",
      "include_colab_link": true
    },
    "kernelspec": {
      "name": "python3",
      "display_name": "Python 3"
    },
    "accelerator": "GPU"
  },
  "cells": [
    {
      "cell_type": "markdown",
      "metadata": {
        "id": "view-in-github",
        "colab_type": "text"
      },
      "source": [
        "<a href=\"https://colab.research.google.com/github/estern95/Recipe-Mojo/blob/main/recipe_generator.ipynb\" target=\"_parent\"><img src=\"https://colab.research.google.com/assets/colab-badge.svg\" alt=\"Open In Colab\"/></a>"
      ]
    },
    {
      "cell_type": "markdown",
      "metadata": {
        "id": "DMQ0If3ZrBm6"
      },
      "source": [
        "# Let's build a Recipe Generator!\r\n",
        "\r\n",
        "In case you don't know me, I love cooking! I did multible cooking competitions in High School, and had I done a little better (2nd in both) I might have ended up doing something else. But then I would get to play around with tensorflow and build cool recipe generators!\r\n",
        "\r\n",
        "# Notes\r\n",
        "\r\n",
        "## Random Thoughts\r\n",
        "\r\n",
        "* I think I want to train the recipe steps on the the list of ingredients. Then we have a model that links the ingredients to how they are used.\r\n",
        "* This seems similar to how [image caption generators work](https://machinelearningmastery.com/develop-a-deep-learning-caption-generation-model-in-python/).\r\n",
        "  * Simply put in image captioning, we train a model to identify what is in the image using a CNN and frequently a prebuilt model like VGG16. Then we merge it with a model that creates a partial caption.\r\n",
        "\r\n",
        "    1. Processing the sequence from the text \r\n",
        "    1. Extracting the feature vector from the image\r\n",
        "    1. Decoding the output using softmax by concatenating the above two layers\r\n",
        "\r\n",
        "  * In my case, we don't have to use a CNN because our input data can be encoded as a matrix of ingredient quantities.\r\n",
        "  * What might be tricky is that the 'caption' in my case is a lot longer since it is the list of steps.\r\n",
        "    * What I am trying to decide is if it makes sense to define each step as a dimension in the shape? Or just treat the whole thing as a monolith. \r\n",
        "    * Probably easier to start with the monolithic approach, but a good thing to come back to at some point.\r\n",
        "  * Eventually it would be cool to add a third merge layer of the recipe title. So the input would be a recipe title, and output a list of ingredients AND how to use them.\r\n",
        "    * Start with the recipe encoder first :) trying to not overscope.\r\n",
        "\r\n",
        "## Useful Links:\r\n",
        "\r\n",
        "* [This is cool RNN to generate recipies](https://colab.research.google.com/github/trekhleb/machine-learning-experiments/blob/master/experiments/recipe_generation_rnn/recipe_generation_rnn.ipynb#scrollTo=-Jka4jyNzoA0). It is naive though. The text looks like a recipe, but the recipes that is generates are meaningless because the steps don't match the ingredients.\r\n",
        "* [Useful tututorial for creating image captions](https://www.analyticsvidhya.com/blog/2020/11/create-your-own-image-caption-generator-using-keras/)\r\n",
        "\r\n",
        "## Outline the steps:\r\n",
        "\r\n",
        "1. Get some data. I think we can get recipe data from an API called spoonacular. Let's just focus on deserts/baked goods since those recipes tend to be a bit more algorithmic. For instance, making cakes basically follows the exact same steps and is the reason a cake is a cake and not a muffin (Search for the muffin method vs creaming method if you are curious!).\r\n",
        "1. Data cleaning, I expect that we will have a lot of cleaning to do. Beyond that the data will be pulled as JSON and we will have to convert to tabular data, there is probably a lot of small bits and bobs to normalize. For instance metric vs imperial units, Or even more confusing weights vs volume measures.\r\n",
        "1. Design our model architechture! This is going to be a little tricky since there are a lot of ways we could go about this. For instance, a recipe is basically a DAG and we could treat it like so in our model and maybe treat it as a series. Or we could assume that all recipes of certain types follow the same steps and just feed it an array of ingredients/quantities. Probably best to start with that since we don't have to use text analysis to parse recipes strings.\r\n",
        "1. Once we have a fitted model we like, we need to generate new results! Ideally, we give the model a key ingredient or perhaps a recipe name and the model will generate the rest. (This might need to leverage GANs but that is TBD)\r\n",
        "\r\n",
        "## Extract Data\r\n",
        "\r\n",
        "I was going to scrape data, but Kaggle to the rescue and someone has already done that work. There is a dataset scrapped from food.com with 700k recipes already organized!"
      ]
    },
    {
      "cell_type": "markdown",
      "metadata": {
        "id": "1Prq0_SX-vlS"
      },
      "source": [
        "# Pull Data With API"
      ]
    },
    {
      "cell_type": "markdown",
      "metadata": {
        "id": "4N1MEpT3HIkJ"
      },
      "source": [
        ""
      ]
    },
    {
      "cell_type": "code",
      "metadata": {
        "id": "P5FFW_s1ETZZ"
      },
      "source": [
        "build_env = False #@param {type:\"boolean\"}\r\n",
        "if build_env:\r\n",
        "  from google.colab import files\r\n",
        "  files.upload()\r\n",
        "  ! mkdir ~/.kaggle/\r\n",
        "  ! cp kaggle.json ~/.kaggle/\r\n",
        "  ! chmod 600 ~/.kaggle/kaggle.json\r\n",
        "  !kaggle datasets download -d shuyangli94/food-com-recipes-and-user-interactions\r\n",
        "  ! unzip  food-com-recipes-and-user-interactions.zip -d inout\r\n",
        "  !wget http://downloads.cs.stanford.edu/nlp/data/glove.6B.zip\r\n",
        "  !unzip -q glove.6B.zip"
      ],
      "execution_count": 1,
      "outputs": []
    },
    {
      "cell_type": "code",
      "metadata": {
        "colab": {
          "base_uri": "https://localhost:8080/",
          "height": 1000
        },
        "id": "6XkdMftZq3yI",
        "outputId": "7ace529a-ee92-4149-d4f9-49297ad184b6"
      },
      "source": [
        "import pandas as pd\r\n",
        "import numpy as np\r\n",
        "import string\r\n",
        "import os\r\n",
        "from ast import literal_eval # for evaluating strings as lists\r\n",
        "\r\n",
        "import matplotlib.pyplot as plt\r\n",
        "\r\n",
        "from keras import Input, layers\r\n",
        "from keras import optimizers\r\n",
        "from keras.optimizers import Adam\r\n",
        "from keras.preprocessing import sequence\r\n",
        "from keras.preprocessing import image\r\n",
        "from keras.preprocessing.text import Tokenizer\r\n",
        "from keras.preprocessing.sequence import pad_sequences\r\n",
        "from keras.layers import LSTM, GRU, Embedding, Dense, Activation, Flatten, Reshape, Dropout\r\n",
        "from keras.layers.wrappers import Bidirectional\r\n",
        "from keras.layers.merge import add\r\n",
        "from keras.applications.inception_v3 import InceptionV3\r\n",
        "from keras.applications.inception_v3 import preprocess_input\r\n",
        "from keras.models import Model\r\n",
        "from keras.utils import to_categorical, plot_model\r\n",
        "\r\n",
        "recipes = pd.read_csv('inout/RAW_recipes.csv')\r\n",
        "\r\n",
        "display(recipes)"
      ],
      "execution_count": 2,
      "outputs": [
        {
          "output_type": "display_data",
          "data": {
            "text/html": [
              "<div>\n",
              "<style scoped>\n",
              "    .dataframe tbody tr th:only-of-type {\n",
              "        vertical-align: middle;\n",
              "    }\n",
              "\n",
              "    .dataframe tbody tr th {\n",
              "        vertical-align: top;\n",
              "    }\n",
              "\n",
              "    .dataframe thead th {\n",
              "        text-align: right;\n",
              "    }\n",
              "</style>\n",
              "<table border=\"1\" class=\"dataframe\">\n",
              "  <thead>\n",
              "    <tr style=\"text-align: right;\">\n",
              "      <th></th>\n",
              "      <th>name</th>\n",
              "      <th>id</th>\n",
              "      <th>minutes</th>\n",
              "      <th>contributor_id</th>\n",
              "      <th>submitted</th>\n",
              "      <th>tags</th>\n",
              "      <th>nutrition</th>\n",
              "      <th>n_steps</th>\n",
              "      <th>steps</th>\n",
              "      <th>description</th>\n",
              "      <th>ingredients</th>\n",
              "      <th>n_ingredients</th>\n",
              "    </tr>\n",
              "  </thead>\n",
              "  <tbody>\n",
              "    <tr>\n",
              "      <th>0</th>\n",
              "      <td>arriba   baked winter squash mexican style</td>\n",
              "      <td>137739</td>\n",
              "      <td>55</td>\n",
              "      <td>47892</td>\n",
              "      <td>2005-09-16</td>\n",
              "      <td>['60-minutes-or-less', 'time-to-make', 'course...</td>\n",
              "      <td>[51.5, 0.0, 13.0, 0.0, 2.0, 0.0, 4.0]</td>\n",
              "      <td>11</td>\n",
              "      <td>['make a choice and proceed with recipe', 'dep...</td>\n",
              "      <td>autumn is my favorite time of year to cook! th...</td>\n",
              "      <td>['winter squash', 'mexican seasoning', 'mixed ...</td>\n",
              "      <td>7</td>\n",
              "    </tr>\n",
              "    <tr>\n",
              "      <th>1</th>\n",
              "      <td>a bit different  breakfast pizza</td>\n",
              "      <td>31490</td>\n",
              "      <td>30</td>\n",
              "      <td>26278</td>\n",
              "      <td>2002-06-17</td>\n",
              "      <td>['30-minutes-or-less', 'time-to-make', 'course...</td>\n",
              "      <td>[173.4, 18.0, 0.0, 17.0, 22.0, 35.0, 1.0]</td>\n",
              "      <td>9</td>\n",
              "      <td>['preheat oven to 425 degrees f', 'press dough...</td>\n",
              "      <td>this recipe calls for the crust to be prebaked...</td>\n",
              "      <td>['prepared pizza crust', 'sausage patty', 'egg...</td>\n",
              "      <td>6</td>\n",
              "    </tr>\n",
              "    <tr>\n",
              "      <th>2</th>\n",
              "      <td>all in the kitchen  chili</td>\n",
              "      <td>112140</td>\n",
              "      <td>130</td>\n",
              "      <td>196586</td>\n",
              "      <td>2005-02-25</td>\n",
              "      <td>['time-to-make', 'course', 'preparation', 'mai...</td>\n",
              "      <td>[269.8, 22.0, 32.0, 48.0, 39.0, 27.0, 5.0]</td>\n",
              "      <td>6</td>\n",
              "      <td>['brown ground beef in large pot', 'add choppe...</td>\n",
              "      <td>this modified version of 'mom's' chili was a h...</td>\n",
              "      <td>['ground beef', 'yellow onions', 'diced tomato...</td>\n",
              "      <td>13</td>\n",
              "    </tr>\n",
              "    <tr>\n",
              "      <th>3</th>\n",
              "      <td>alouette  potatoes</td>\n",
              "      <td>59389</td>\n",
              "      <td>45</td>\n",
              "      <td>68585</td>\n",
              "      <td>2003-04-14</td>\n",
              "      <td>['60-minutes-or-less', 'time-to-make', 'course...</td>\n",
              "      <td>[368.1, 17.0, 10.0, 2.0, 14.0, 8.0, 20.0]</td>\n",
              "      <td>11</td>\n",
              "      <td>['place potatoes in a large pot of lightly sal...</td>\n",
              "      <td>this is a super easy, great tasting, make ahea...</td>\n",
              "      <td>['spreadable cheese with garlic and herbs', 'n...</td>\n",
              "      <td>11</td>\n",
              "    </tr>\n",
              "    <tr>\n",
              "      <th>4</th>\n",
              "      <td>amish  tomato ketchup  for canning</td>\n",
              "      <td>44061</td>\n",
              "      <td>190</td>\n",
              "      <td>41706</td>\n",
              "      <td>2002-10-25</td>\n",
              "      <td>['weeknight', 'time-to-make', 'course', 'main-...</td>\n",
              "      <td>[352.9, 1.0, 337.0, 23.0, 3.0, 0.0, 28.0]</td>\n",
              "      <td>5</td>\n",
              "      <td>['mix all ingredients&amp; boil for 2 1 / 2 hours ...</td>\n",
              "      <td>my dh's amish mother raised him on this recipe...</td>\n",
              "      <td>['tomato juice', 'apple cider vinegar', 'sugar...</td>\n",
              "      <td>8</td>\n",
              "    </tr>\n",
              "    <tr>\n",
              "      <th>...</th>\n",
              "      <td>...</td>\n",
              "      <td>...</td>\n",
              "      <td>...</td>\n",
              "      <td>...</td>\n",
              "      <td>...</td>\n",
              "      <td>...</td>\n",
              "      <td>...</td>\n",
              "      <td>...</td>\n",
              "      <td>...</td>\n",
              "      <td>...</td>\n",
              "      <td>...</td>\n",
              "      <td>...</td>\n",
              "    </tr>\n",
              "    <tr>\n",
              "      <th>231632</th>\n",
              "      <td>zydeco soup</td>\n",
              "      <td>486161</td>\n",
              "      <td>60</td>\n",
              "      <td>227978</td>\n",
              "      <td>2012-08-29</td>\n",
              "      <td>['ham', '60-minutes-or-less', 'time-to-make', ...</td>\n",
              "      <td>[415.2, 26.0, 34.0, 26.0, 44.0, 21.0, 15.0]</td>\n",
              "      <td>7</td>\n",
              "      <td>['heat oil in a 4-quart dutch oven', 'add cele...</td>\n",
              "      <td>this is a delicious soup that i originally fou...</td>\n",
              "      <td>['celery', 'onion', 'green sweet pepper', 'gar...</td>\n",
              "      <td>22</td>\n",
              "    </tr>\n",
              "    <tr>\n",
              "      <th>231633</th>\n",
              "      <td>zydeco spice mix</td>\n",
              "      <td>493372</td>\n",
              "      <td>5</td>\n",
              "      <td>1500678</td>\n",
              "      <td>2013-01-09</td>\n",
              "      <td>['15-minutes-or-less', 'time-to-make', 'course...</td>\n",
              "      <td>[14.8, 0.0, 2.0, 58.0, 1.0, 0.0, 1.0]</td>\n",
              "      <td>1</td>\n",
              "      <td>['mix all ingredients together thoroughly']</td>\n",
              "      <td>this spice mix will make your taste buds dance!</td>\n",
              "      <td>['paprika', 'salt', 'garlic powder', 'onion po...</td>\n",
              "      <td>13</td>\n",
              "    </tr>\n",
              "    <tr>\n",
              "      <th>231634</th>\n",
              "      <td>zydeco ya ya deviled eggs</td>\n",
              "      <td>308080</td>\n",
              "      <td>40</td>\n",
              "      <td>37779</td>\n",
              "      <td>2008-06-07</td>\n",
              "      <td>['60-minutes-or-less', 'time-to-make', 'course...</td>\n",
              "      <td>[59.2, 6.0, 2.0, 3.0, 6.0, 5.0, 0.0]</td>\n",
              "      <td>7</td>\n",
              "      <td>['in a bowl , combine the mashed yolks and may...</td>\n",
              "      <td>deviled eggs, cajun-style</td>\n",
              "      <td>['hard-cooked eggs', 'mayonnaise', 'dijon must...</td>\n",
              "      <td>8</td>\n",
              "    </tr>\n",
              "    <tr>\n",
              "      <th>231635</th>\n",
              "      <td>cookies by design   cookies on a stick</td>\n",
              "      <td>298512</td>\n",
              "      <td>29</td>\n",
              "      <td>506822</td>\n",
              "      <td>2008-04-15</td>\n",
              "      <td>['30-minutes-or-less', 'time-to-make', 'course...</td>\n",
              "      <td>[188.0, 11.0, 57.0, 11.0, 7.0, 21.0, 9.0]</td>\n",
              "      <td>9</td>\n",
              "      <td>['place melted butter in a large mixing bowl a...</td>\n",
              "      <td>i've heard of the 'cookies by design' company,...</td>\n",
              "      <td>['butter', 'eagle brand condensed milk', 'ligh...</td>\n",
              "      <td>10</td>\n",
              "    </tr>\n",
              "    <tr>\n",
              "      <th>231636</th>\n",
              "      <td>cookies by design   sugar shortbread cookies</td>\n",
              "      <td>298509</td>\n",
              "      <td>20</td>\n",
              "      <td>506822</td>\n",
              "      <td>2008-04-15</td>\n",
              "      <td>['30-minutes-or-less', 'time-to-make', 'course...</td>\n",
              "      <td>[174.9, 14.0, 33.0, 4.0, 4.0, 11.0, 6.0]</td>\n",
              "      <td>5</td>\n",
              "      <td>['whip sugar and shortening in a large bowl , ...</td>\n",
              "      <td>i've heard of the 'cookies by design' company,...</td>\n",
              "      <td>['granulated sugar', 'shortening', 'eggs', 'fl...</td>\n",
              "      <td>7</td>\n",
              "    </tr>\n",
              "  </tbody>\n",
              "</table>\n",
              "<p>231637 rows × 12 columns</p>\n",
              "</div>"
            ],
            "text/plain": [
              "                                                name  ...  n_ingredients\n",
              "0         arriba   baked winter squash mexican style  ...              7\n",
              "1                   a bit different  breakfast pizza  ...              6\n",
              "2                          all in the kitchen  chili  ...             13\n",
              "3                                 alouette  potatoes  ...             11\n",
              "4                 amish  tomato ketchup  for canning  ...              8\n",
              "...                                              ...  ...            ...\n",
              "231632                                   zydeco soup  ...             22\n",
              "231633                              zydeco spice mix  ...             13\n",
              "231634                     zydeco ya ya deviled eggs  ...              8\n",
              "231635        cookies by design   cookies on a stick  ...             10\n",
              "231636  cookies by design   sugar shortbread cookies  ...              7\n",
              "\n",
              "[231637 rows x 12 columns]"
            ]
          },
          "metadata": {
            "tags": []
          }
        }
      ]
    },
    {
      "cell_type": "markdown",
      "metadata": {
        "id": "jqjmKRliQwS7"
      },
      "source": [
        "## Take a look at one recipe\r\n",
        "\r\n",
        "This confirms my idea to start with just treating the steps as a monolithic series. The steps are established by newlines and not the actual steps. "
      ]
    },
    {
      "cell_type": "code",
      "metadata": {
        "colab": {
          "base_uri": "https://localhost:8080/"
        },
        "id": "9_JpbVfbQ0Qa",
        "outputId": "f96d74a7-c5da-4f4d-aa62-337e758f2442"
      },
      "source": [
        "print('Title:\\n', recipes['name'].iloc[0])\r\n",
        "print('Description:\\n', recipes['description'].iloc[0])\r\n",
        "print('Ingredients:\\n', recipes['ingredients'].iloc[0])\r\n",
        "print('Steps:\\n', recipes['steps'].iloc[0])"
      ],
      "execution_count": 3,
      "outputs": [
        {
          "output_type": "stream",
          "text": [
            "Title:\n",
            " arriba   baked winter squash mexican style\n",
            "Description:\n",
            " autumn is my favorite time of year to cook! this recipe \r\n",
            "can be prepared either spicy or sweet, your choice!\r\n",
            "two of my posted mexican-inspired seasoning mix recipes are offered as suggestions.\n",
            "Ingredients:\n",
            " ['winter squash', 'mexican seasoning', 'mixed spice', 'honey', 'butter', 'olive oil', 'salt']\n",
            "Steps:\n",
            " ['make a choice and proceed with recipe', 'depending on size of squash , cut into half or fourths', 'remove seeds', 'for spicy squash , drizzle olive oil or melted butter over each cut squash piece', 'season with mexican seasoning mix ii', 'for sweet squash , drizzle melted honey , butter , grated piloncillo over each cut squash piece', 'season with sweet mexican spice mix', 'bake at 350 degrees , again depending on size , for 40 minutes up to an hour , until a fork can easily pierce the skin', 'be careful not to burn the squash especially if you opt to use sugar or butter', 'if you feel more comfortable , cover the squash with aluminum foil the first half hour , give or take , of baking', 'if desired , season with salt']\n"
          ],
          "name": "stdout"
        }
      ]
    },
    {
      "cell_type": "markdown",
      "metadata": {
        "id": "ivqA4z-GUMDK"
      },
      "source": [
        "## Preprocessing\r\n",
        "\r\n",
        "Need to convert the vector of steps into a single string. Everything is already lowercase and purged of punctuation.\r\n",
        "\r\n"
      ]
    },
    {
      "cell_type": "code",
      "metadata": {
        "id": "0plJNDmWVRUp"
      },
      "source": [
        "\r\n",
        "recipes['ingredients'] = recipes['ingredients'].apply(literal_eval)\r\n",
        "recipes['steps'] = recipes['steps'].str.replace(r'-', ' ').str.replace(r'[^\\w\\s]+', '')\r\n",
        "recipes['nwords_steps'] = recipes.steps.apply(lambda x: len(x.split()))"
      ],
      "execution_count": 4,
      "outputs": []
    },
    {
      "cell_type": "markdown",
      "metadata": {
        "id": "04hE8LK_UJ_S"
      },
      "source": [
        "## Remove Recipes with Long Number of Steps\n",
        "\n",
        "Most steps have less than 500 words. Since we will have to pad the sequences later, it will mean that every sequence will have to be the same length. Removing the longer sequences will pay dividends while fitting the model."
      ]
    },
    {
      "cell_type": "code",
      "metadata": {
        "colab": {
          "base_uri": "https://localhost:8080/",
          "height": 483
        },
        "id": "mhCJ53l1WWMh",
        "outputId": "3fdd7bd9-97af-4554-da5b-8ae878d2bc93"
      },
      "source": [
        "plt.figure(figsize=(12,8)) \n",
        "hist = plt.hist(recipes['nwords_steps'])"
      ],
      "execution_count": 5,
      "outputs": [
        {
          "output_type": "display_data",
          "data": {
            "image/png": "[encoded data removed]",
            "text/plain": [
              "<Figure size 864x576 with 1 Axes>"
            ]
          },
          "metadata": {
            "tags": [],
            "needs_background": "light"
          }
        }
      ]
    },
    {
      "cell_type": "code",
      "metadata": {
        "colab": {
          "base_uri": "https://localhost:8080/"
        },
        "id": "mTD1nbzqUq5k",
        "outputId": "9b711689-5377-47ec-a011-43b165f95b6d"
      },
      "source": [
        "max_words_steps = 200\n",
        "\n",
        "recipes = recipes[recipes.nwords_steps <= max_words_steps]\n",
        "\n",
        "# For testing\n",
        "recipes = recipes.sample(frac = .02)\n",
        "\n",
        "print('%d recipes in training set' % len(recipes))"
      ],
      "execution_count": 6,
      "outputs": [
        {
          "output_type": "stream",
          "text": [
            "4306 recipes in training set\n"
          ],
          "name": "stdout"
        }
      ]
    },
    {
      "cell_type": "code",
      "metadata": {
        "id": "H7tNHG74ZC1L"
      },
      "source": [
        "ingredients = recipes['ingredients']\n",
        "steps       = recipes['steps']\n"
      ],
      "execution_count": 7,
      "outputs": []
    },
    {
      "cell_type": "markdown",
      "metadata": {
        "id": "2BUCy_tlI783"
      },
      "source": [
        "Find the Corpus for all instructions:"
      ]
    },
    {
      "cell_type": "code",
      "metadata": {
        "colab": {
          "base_uri": "https://localhost:8080/"
        },
        "id": "yyrniSaIhnz5",
        "outputId": "425f0449-b922-434a-a891-5b2a6dd37490"
      },
      "source": [
        "steps_vocab = set()\r\n",
        "\r\n",
        "for key in steps.keys():\r\n",
        "  [steps_vocab.update(steps[key].split())]\r\n",
        "print('Original Vocabulary Size: %d' % len(steps_vocab))\r\n"
      ],
      "execution_count": 8,
      "outputs": [
        {
          "output_type": "stream",
          "text": [
            "Original Vocabulary Size: 6155\n"
          ],
          "name": "stdout"
        }
      ]
    },
    {
      "cell_type": "markdown",
      "metadata": {
        "id": "uPYxpRxhMUz3"
      },
      "source": [
        "Now we create two dictionaries to map words to an index and vice versa. Also, we append 1 to our vocabulary since we append 0’s to make all captions of equal length.\n",
        "\n"
      ]
    },
    {
      "cell_type": "code",
      "metadata": {
        "id": "OOkRTHpfMbpY"
      },
      "source": [
        "ixtoword = {}\n",
        "wordtoix = {}\n",
        "ix = 1\n",
        "for w in steps_vocab:\n",
        "    wordtoix[w] = ix\n",
        "    ixtoword[ix] = w\n",
        "    ix += 1\n",
        "\n",
        "vocab_size = len(ixtoword) + 1"
      ],
      "execution_count": 9,
      "outputs": []
    },
    {
      "cell_type": "markdown",
      "metadata": {
        "id": "lsCoeazONYII"
      },
      "source": [
        "We also need to find out what the max length of a steps set can be since we cannot have steps vector of arbitrary length."
      ]
    },
    {
      "cell_type": "code",
      "metadata": {
        "colab": {
          "base_uri": "https://localhost:8080/"
        },
        "id": "0yEh26E8Ncex",
        "outputId": "83253487-93bc-4104-e1de-fa15cea7e22f"
      },
      "source": [
        "length_steps = steps.apply(lambda x: len(x.split()))\n",
        "max_length = max(length_steps)\n",
        "print('Description Length: %d' % max_length)"
      ],
      "execution_count": 10,
      "outputs": [
        {
          "output_type": "stream",
          "text": [
            "Description Length: 200\n"
          ],
          "name": "stdout"
        }
      ]
    },
    {
      "cell_type": "markdown",
      "metadata": {
        "id": "ynLTgNXSOzOS"
      },
      "source": [
        "## Glove Prepocessing\n",
        "\n",
        "Word vectors map words to a vector space, where similar words are clustered together and different words are separated. The advantage of using Glove over Word2Vec is that GloVe does not just rely on the local context of words but it incorporates global word co-occurrence to obtain word vectors.\n",
        "\n",
        "The basic premise behind Glove is that we can derive semantic relationships between words from the co-occurrence matrix. For our model, we will map all the words in our 2144-word long caption to a 200-dimension vector using Glove."
      ]
    },
    {
      "cell_type": "code",
      "metadata": {
        "id": "4iDPRPOrPIEe"
      },
      "source": [
        "embeddings_index = {} \n",
        "f = open(os.path.join('glove.6B.200d.txt'), encoding=\"utf-8\")\n",
        "for line in f:\n",
        "    values = line.split()\n",
        "    word = values[0]\n",
        "    coefs = np.asarray(values[1:], dtype='float32')\n",
        "    embeddings_index[word] = coefs"
      ],
      "execution_count": 11,
      "outputs": []
    },
    {
      "cell_type": "markdown",
      "metadata": {
        "id": "zlHjnQAwSSKp"
      },
      "source": [
        "Next, we make the matrix of shape (45385, 200) consisting of our vocabulary and the 200-d vector."
      ]
    },
    {
      "cell_type": "code",
      "metadata": {
        "id": "0hXVlHj8STMR"
      },
      "source": [
        "embedding_dim = 200 # Taken from the pre-trained glove model\n",
        "embedding_matrix = np.zeros((vocab_size, embedding_dim))\n",
        "for word, i in wordtoix.items():\n",
        "    embedding_vector = embeddings_index.get(word)\n",
        "    if embedding_vector is not None:\n",
        "        embedding_matrix[i] = embedding_vector"
      ],
      "execution_count": 12,
      "outputs": []
    },
    {
      "cell_type": "markdown",
      "metadata": {
        "id": "VTiyR9YlULfT"
      },
      "source": [
        "# Preprocessing for Ingredients\n",
        "We are going to do simlar prep steps as we did for the description encodings.\n",
        "\n",
        "First, we need to create a set of all possible ingredients."
      ]
    },
    {
      "cell_type": "code",
      "metadata": {
        "colab": {
          "base_uri": "https://localhost:8080/"
        },
        "id": "IZwcIw1CJGsi",
        "outputId": "c389ec1c-9119-484b-a9ea-1b1c1093f6ae"
      },
      "source": [
        "ingredients_vocab = set()\n",
        "\n",
        "for key in ingredients.keys():\n",
        "  [ingredients_vocab.update(ingredients[key])]\n",
        "print('Original Ingredient Set: %d' % len(ingredients_vocab))\n"
      ],
      "execution_count": 13,
      "outputs": [
        {
          "output_type": "stream",
          "text": [
            "Original Ingredient Set: 3974\n"
          ],
          "name": "stdout"
        }
      ]
    },
    {
      "cell_type": "markdown",
      "metadata": {
        "id": "EkRS80EaVEuq"
      },
      "source": [
        "Now we create two dictionaries to map ingredients to an index and vice versa. Also, we append 1 to our vocabulary since we append 0’s to make all captions of equal length."
      ]
    },
    {
      "cell_type": "code",
      "metadata": {
        "id": "QPydSRfhVP1_"
      },
      "source": [
        "ixtoingredient = {}\n",
        "ingredienttoix = {}\n",
        "ix = 1\n",
        "for w in ingredients_vocab:\n",
        "    ingredienttoix[w] = ix\n",
        "    ixtoingredient[ix] = w\n",
        "    ix += 1\n",
        "\n",
        "ingredient_size = len(ixtoingredient) + 1"
      ],
      "execution_count": 14,
      "outputs": []
    },
    {
      "cell_type": "markdown",
      "metadata": {
        "id": "WXPdQA0qWOK6"
      },
      "source": [
        "Now we are going to create a spare matrix by hot encoding the ingredients as zero or one."
      ]
    },
    {
      "cell_type": "code",
      "metadata": {
        "id": "V4TCPlCKWSqq"
      },
      "source": [
        "\n",
        "# integer representation\n",
        "def prep_ingredients(ingredient_list, ingredienttoix, ingredient_size):\n",
        "  bool_ingredients = np.zeros((ingredient_size), dtype=np.bool)\n",
        "  \n",
        "  #create a spare array. If an ingredieant is use, 1, else 0\n",
        "  for ind in ingredient_list:\n",
        "    bool_ingredients[ingredienttoix[ind]-1] = 1 \n",
        "\n",
        "  return(bool_ingredients)\n"
      ],
      "execution_count": 15,
      "outputs": []
    },
    {
      "cell_type": "markdown",
      "metadata": {
        "id": "Inhp78BFIOqj"
      },
      "source": [
        "Now let’s define our model.\n",
        "We are creating a Merge model where we combine the ingredient vector and the embeded steps list. Therefore our model will have 3 major steps:\n",
        "\n",
        "* Processing the sequence from the text \n",
        "* Extracting the feature vector from the ingredients\n",
        "* Decoding the output using softmax by concatenating the above two layers"
      ]
    },
    {
      "cell_type": "code",
      "metadata": {
        "colab": {
          "base_uri": "https://localhost:8080/"
        },
        "id": "2UXjv1m-If56",
        "outputId": "83b469f9-19e1-471e-bb20-4ee60e85b767"
      },
      "source": [
        "inputs1 = Input(shape=(ingredient_size,))\n",
        "fe0 = Dense(256, activation='relu')(inputs1)\n",
        "fe1 = Dropout(0.5)(fe0)\n",
        "fe2 = Dense(256, activation='relu')(fe1)\n",
        "\n",
        "inputs2 = Input(shape=(max_length,))\n",
        "se1 = Embedding(vocab_size, embedding_dim, mask_zero=True)(inputs2)\n",
        "se2 = Dropout(0.5)(se1)\n",
        "se3 = GRU(256)(se2)\n",
        "\n",
        "decoder1 = add([fe2, se3])\n",
        "decoder2 = Dense(256, activation='relu')(decoder1)\n",
        "outputs = Dense(vocab_size, activation='softmax')(decoder2)\n",
        "\n",
        "model = Model(inputs=[inputs1, inputs2], outputs=outputs)\n",
        "model.summary()"
      ],
      "execution_count": 16,
      "outputs": [
        {
          "output_type": "stream",
          "text": [
            "Model: \"model\"\n",
            "__________________________________________________________________________________________________\n",
            "Layer (type)                    Output Shape         Param #     Connected to                     \n",
            "==================================================================================================\n",
            "input_1 (InputLayer)            [(None, 3975)]       0                                            \n",
            "__________________________________________________________________________________________________\n",
            "input_2 (InputLayer)            [(None, 200)]        0                                            \n",
            "__________________________________________________________________________________________________\n",
            "dense (Dense)                   (None, 256)          1017856     input_1[0][0]                    \n",
            "__________________________________________________________________________________________________\n",
            "embedding (Embedding)           (None, 200, 200)     1231200     input_2[0][0]                    \n",
            "__________________________________________________________________________________________________\n",
            "dropout (Dropout)               (None, 256)          0           dense[0][0]                      \n",
            "__________________________________________________________________________________________________\n",
            "dropout_1 (Dropout)             (None, 200, 200)     0           embedding[0][0]                  \n",
            "__________________________________________________________________________________________________\n",
            "dense_1 (Dense)                 (None, 256)          65792       dropout[0][0]                    \n",
            "__________________________________________________________________________________________________\n",
            "gru (GRU)                       (None, 256)          351744      dropout_1[0][0]                  \n",
            "__________________________________________________________________________________________________\n",
            "add (Add)                       (None, 256)          0           dense_1[0][0]                    \n",
            "                                                                 gru[0][0]                        \n",
            "__________________________________________________________________________________________________\n",
            "dense_2 (Dense)                 (None, 256)          65792       add[0][0]                        \n",
            "__________________________________________________________________________________________________\n",
            "dense_3 (Dense)                 (None, 6156)         1582092     dense_2[0][0]                    \n",
            "==================================================================================================\n",
            "Total params: 4,314,476\n",
            "Trainable params: 4,314,476\n",
            "Non-trainable params: 0\n",
            "__________________________________________________________________________________________________\n"
          ],
          "name": "stdout"
        }
      ]
    },
    {
      "cell_type": "code",
      "metadata": {
        "colab": {
          "base_uri": "https://localhost:8080/",
          "height": 661
        },
        "id": "e5Wy3oIsq4Pn",
        "outputId": "8e3b80b1-c547-4d22-b772-c779e563747b"
      },
      "source": [
        "plot_model(model)"
      ],
      "execution_count": 17,
      "outputs": [
        {
          "output_type": "execute_result",
          "data": {
            "image/png": "[encoded data removed]",
            "text/plain": [
              "<IPython.core.display.Image object>"
            ]
          },
          "metadata": {
            "tags": []
          },
          "execution_count": 17
        }
      ]
    },
    {
      "cell_type": "markdown",
      "metadata": {
        "id": "cdLy_BesrYxB"
      },
      "source": [
        "Now compile the model."
      ]
    },
    {
      "cell_type": "code",
      "metadata": {
        "id": "65MhhTUhrb4M"
      },
      "source": [
        "model.compile(loss='categorical_crossentropy', optimizer='adam')"
      ],
      "execution_count": 18,
      "outputs": []
    },
    {
      "cell_type": "markdown",
      "metadata": {
        "id": "AM5j76c-r1bF"
      },
      "source": [
        ""
      ]
    },
    {
      "cell_type": "code",
      "metadata": {
        "id": "dZXKB3SJr3Ao"
      },
      "source": [
        "def data_generator(recipe_steps, \n",
        "                   recipe_ingredients, \n",
        "                   wordtoix, \n",
        "                   max_length, \n",
        "                   ingredienttoix,\n",
        "                   ingredient_size,\n",
        "                   num_recipes_per_batch):\n",
        "    X1, X2, y = list(), list(), list()\n",
        "    n=0\n",
        "    # loop forever over recipes\n",
        "    while True:\n",
        "        for key, desc in recipe_steps.items():\n",
        "            n+=1\n",
        "            ingredient_input = prep_ingredients(recipe_ingredients[key], \n",
        "                                                ingredienttoix,\n",
        "                                                ingredient_size)\n",
        "                # encode the sequence\n",
        "            seq = [wordtoix[word] for word in desc.split(' ') if word in wordtoix]\n",
        "                \n",
        "                # split one sequence into multiple X, y pairs\n",
        "            #print(len(seq))\n",
        "            for i in range(0, len(seq)):\n",
        "                    # split into input and output pair\n",
        "                in_seq, out_seq = seq[:i], seq[i]\n",
        "                    \n",
        "                    # pad input sequence\n",
        "                in_seq = pad_sequences([in_seq], maxlen=max_length)[0]\n",
        "                    # encode output sequence\n",
        "                out_seq = to_categorical([out_seq], num_classes=vocab_size)[0]\n",
        "                    # store\n",
        "                X1.append(ingredient_input)\n",
        "                X2.append(in_seq)\n",
        "                y.append(out_seq)\n",
        "                \n",
        "            if n==num_recipes_per_batch:\n",
        "                yield ([np.array(X1), np.array(X2)], np.array(y))\n",
        "                X1, X2, y = list(), list(), list()\n",
        "                n=0\n",
        "\n",
        "#X1 = np.array(ingredients.apply(lambda x: prep_ingredients(x,\n",
        "#                                                  ingredienttoix, \n",
        "#                                                  ingredient_size)))\n",
        "#\n",
        "#\n",
        "# Sequence descriptions\n",
        " "
      ],
      "execution_count": 37,
      "outputs": []
    },
    {
      "cell_type": "code",
      "metadata": {
        "colab": {
          "base_uri": "https://localhost:8080/"
        },
        "id": "OdARMug3w97S",
        "outputId": "f4f649ad-8dce-431a-b888-aaf7cbc988d9"
      },
      "source": [
        "epochs = 30\n",
        "batch_size = 10\n",
        "epoch_steps = len(steps)//batch_size\n",
        "\n",
        "generator = data_generator(steps, ingredients, \n",
        "                           wordtoix, max_length, \n",
        "                           ingredienttoix, ingredient_size,\n",
        "                           batch_size)\n",
        "\n",
        "\n",
        "\n",
        "model.fit(generator, epochs=epochs, steps_per_epoch=epoch_steps, verbose=1)"
      ],
      "execution_count": null,
      "outputs": [
        {
          "output_type": "stream",
          "text": [
            "Epoch 1/30\n",
            "430/430 [==============================] - 262s 608ms/step - loss: 4.6850\n",
            "Epoch 2/30\n",
            "430/430 [==============================] - 258s 600ms/step - loss: 4.2645\n",
            "Epoch 3/30\n",
            "430/430 [==============================] - 257s 597ms/step - loss: 3.9697\n",
            "Epoch 4/30\n",
            "430/430 [==============================] - 258s 599ms/step - loss: 3.7582\n",
            "Epoch 5/30\n",
            "430/430 [==============================] - 256s 594ms/step - loss: 3.5924\n",
            "Epoch 6/30\n",
            "430/430 [==============================] - 258s 599ms/step - loss: 3.4545\n",
            "Epoch 7/30\n",
            "241/430 [===============>..............] - ETA: 1:53 - loss: 3.3554"
          ],
          "name": "stdout"
        }
      ]
    },
    {
      "cell_type": "markdown",
      "metadata": {
        "id": "XFadAIt3nsh3"
      },
      "source": [
        "# Generate Our Recipes\n",
        "\n",
        "Now that we have a fitted model that takes in a list of ingredients and a seed word, we can generate a recipe. There are two methods we can use: Beam Search and Greedy Search. \n",
        "\n",
        "**Beam Search** is where we take top k predictions, feed them again in the model and then sort them using the probabilities returned by the model. So, the list will always contain the top k predictions and we take the one with the highest probability and go through it till we reach the maximum length.\n",
        "\n",
        "**Greedy Search** is where we pick the word with the highest probability to get the next word prediction."
      ]
    },
    {
      "cell_type": "code",
      "metadata": {
        "id": "F073UPlQqKwI"
      },
      "source": [
        "def beam_search_predictions(ingredient_set, beam_index = 3, start_seq):\n",
        "    start = [wordtoix[start_seq]]\n",
        "    start_word = [[start, 0.0]]\n",
        "\n",
        "    ingredients_prepped = prep_ingredients(\n",
        "        ingredient_set, \n",
        "        ingredienttoix,\n",
        "        ingredient_size)\n",
        "    \n",
        "    while len(start_word[0][0]) < max_length:\n",
        "        temp = []\n",
        "        for s in start_word:\n",
        "            par_caps = sequence.pad_sequences([s[0]], maxlen=max_length, padding='post')\n",
        "            preds = model.predict([ingredients_prepped,par_caps], verbose=0)\n",
        "            word_preds = np.argsort(preds[0])[-beam_index:]\n",
        "            # Getting the top <beam_index>(n) predictions and creating a \n",
        "            # new list so as to put them via the model again\n",
        "            for w in word_preds:\n",
        "                next_cap, prob = s[0][:], s[1]\n",
        "                next_cap.append(w)\n",
        "                prob += preds[0][w]\n",
        "                temp.append([next_cap, prob])\n",
        "                    \n",
        "        start_word = temp\n",
        "        # Sorting according to the probabilities\n",
        "        start_word = sorted(start_word, reverse=False, key=lambda l: l[1])\n",
        "        # Getting the top words\n",
        "        start_word = start_word[-beam_index:]\n",
        "    \n",
        "    start_word = start_word[-1][0]\n",
        "    intermediate_caption = [ixtoword[i] for i in start_word]\n",
        "    final_caption = []\n",
        "    \n",
        "    for i in intermediate_caption:\n",
        "        if i != 'endseq':\n",
        "            final_caption.append(i)\n",
        "        else:\n",
        "            break\n",
        "\n",
        "    final_caption = ' '.join(final_caption[1:])\n",
        "    return final_caption\n",
        "\n",
        "def greedySearch(ingredient_set, start_seq):\n",
        "    in_text = start_seq\n",
        "    ingredients_prepped = prep_ingredients(\n",
        "      ingredient_set, \n",
        "      ingredienttoix,\n",
        "      ingredient_size)\n",
        "    for i in range(max_length):\n",
        "        sequence = [wordtoix[w] for w in in_text.split() if w in wordtoix]\n",
        "        sequence = pad_sequences([sequence], maxlen=max_length)\n",
        "        yhat = model.predict([ingredients_prepped,sequence], verbose=0)\n",
        "        yhat = np.argmax(yhat)\n",
        "        word = ixtoword[yhat]\n",
        "        in_text += ' ' + word\n",
        "        if word == 'endseq':\n",
        "            break\n",
        "\n",
        "    final = in_text.split()\n",
        "    final = final[1:-1]\n",
        "    final = ' '.join(final)\n",
        "    return final"
      ],
      "execution_count": null,
      "outputs": []
    }
  ]
}